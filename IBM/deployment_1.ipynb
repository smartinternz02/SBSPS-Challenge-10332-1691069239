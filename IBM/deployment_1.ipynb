{
  "nbformat": 4,
  "nbformat_minor": 0,
  "metadata": {
    "colab": {
      "provenance": []
    },
    "kernelspec": {
      "name": "python3",
      "display_name": "Python 3"
    },
    "language_info": {
      "name": "python"
    }
  },
  "cells": [
    {
      "cell_type": "code",
      "source": [
        "#Step-1:importing required packges\n",
        "import numpy as np\n",
        "import pandas as pd\n",
        "from sklearn.preprocessing import LabelEncoder\n",
        "\n",
        "#Step-2:Know the dataset\n",
        "data=pd.read_csv('/content/Placement_Data_Full_Class.csv')\n",
        "\n",
        "#Step-3 Data Preprocessing\n",
        "lst=['gender','hsc_s','degree_t','workex','specialisation','status']\n",
        "for label in lst:#encoding data\n",
        "  data[label]=LabelEncoder().fit(data[label]).transform(data[label])\n",
        "\n",
        "col=['ssc_p','hsc_p','workex','mba_p','status']"
      ],
      "metadata": {
        "id": "XWFMzMT5jm1M"
      },
      "execution_count": 48,
      "outputs": []
    },
    {
      "cell_type": "code",
      "source": [
        "#making copies of original data set for classification and regresiion analysis\n",
        "data_clf=data.copy()\n",
        "data_reg=data.copy()"
      ],
      "metadata": {
        "id": "fxOZG0hSju5h"
      },
      "execution_count": 49,
      "outputs": []
    },
    {
      "cell_type": "code",
      "source": [
        "data_clf.drop(['sl_no','ssc_b','hsc_b','salary'],axis=1,inplace=True)#removing unnecessary columns\n",
        "X=data_clf.drop(['status'],axis=1)\n",
        "Y=data_clf['status']\n",
        "\n"
      ],
      "metadata": {
        "id": "eFbRH22ejzip"
      },
      "execution_count": 50,
      "outputs": []
    },
    {
      "cell_type": "code",
      "source": [
        "from sklearn.model_selection import train_test_split\n",
        "\n",
        "X_train,X_test,Y_train,Y_test=train_test_split(X,Y,test_size=0.25,random_state=55)"
      ],
      "metadata": {
        "id": "zGmpBvaEj1lh"
      },
      "execution_count": 51,
      "outputs": []
    },
    {
      "cell_type": "code",
      "source": [
        "from sklearn.ensemble import RandomForestClassifier\n",
        "from sklearn.metrics import classification_report\n",
        "from sklearn import metrics\n",
        "rf=RandomForestClassifier()\n",
        "rf.fit(X_train,Y_train)\n",
        "y_pred5=rf.predict(X_test)\n",
        "\n"
      ],
      "metadata": {
        "id": "smI8uzo_j34J"
      },
      "execution_count": 52,
      "outputs": []
    },
    {
      "cell_type": "code",
      "source": [
        "print(metrics.accuracy_score(Y_test,y_pred5)*100)"
      ],
      "metadata": {
        "colab": {
          "base_uri": "https://localhost:8080/"
        },
        "id": "RsNpxuBOkYq5",
        "outputId": "49f4fea0-583f-4201-9fe1-746298b14fbd"
      },
      "execution_count": 53,
      "outputs": [
        {
          "output_type": "stream",
          "name": "stdout",
          "text": [
            "92.5925925925926\n"
          ]
        }
      ]
    },
    {
      "cell_type": "code",
      "source": [
        "print(rf.predict([[ 1,67,91.00,1,58.00,2,0,55.0,1,58.80]]))"
      ],
      "metadata": {
        "colab": {
          "base_uri": "https://localhost:8080/"
        },
        "id": "C3s4hPpAmXnJ",
        "outputId": "a4cae744-8e51-4baf-959a-c74402795879"
      },
      "execution_count": 54,
      "outputs": [
        {
          "output_type": "stream",
          "name": "stdout",
          "text": [
            "[1]\n"
          ]
        },
        {
          "output_type": "stream",
          "name": "stderr",
          "text": [
            "/usr/local/lib/python3.10/dist-packages/sklearn/base.py:439: UserWarning: X does not have valid feature names, but RandomForestClassifier was fitted with feature names\n",
            "  warnings.warn(\n"
          ]
        }
      ]
    },
    {
      "cell_type": "code",
      "source": [
        "import pickle\n",
        "pickle.dump(rf,open(\"placed.pkl\",\"wb\"))"
      ],
      "metadata": {
        "id": "8K7MNIJomriP"
      },
      "execution_count": 55,
      "outputs": []
    },
    {
      "cell_type": "markdown",
      "source": [
        "**REGRESSION**"
      ],
      "metadata": {
        "id": "gYddvi4FXTWM"
      }
    },
    {
      "cell_type": "code",
      "source": [
        "data_reg.dropna(inplace=True)\n",
        "x=data_reg[['gender','hsc_s','degree_t','etest_p','mba_p']]\n",
        "y=data_reg['salary']\n",
        "\n",
        "from sklearn.preprocessing import MinMaxScaler\n",
        "\n",
        "scaler = MinMaxScaler()\n",
        "X_scaled = scaler.fit_transform(x)\n",
        "\n",
        "# Save the scaler object to preprocess.pkl\n",
        "with open('preprocess.pkl', 'wb') as preprocess_file:\n",
        "    pickle.dump(scaler, preprocess_file)\n",
        "\n",
        "y[y > 400000]\n",
        "\n",
        "X_scaled = X_scaled[y < 400000]\n",
        "y = y[y < 400000]\n",
        "\n"
      ],
      "metadata": {
        "id": "AR-Xp1MlXW1j"
      },
      "execution_count": 56,
      "outputs": []
    },
    {
      "cell_type": "code",
      "source": [
        "from sklearn.model_selection import train_test_split\n",
        "x_train,x_test,y_train,y_test=train_test_split(X_scaled,y,test_size=0.25)\n",
        "\n",
        "from sklearn.linear_model import LinearRegression\n",
        "reg=LinearRegression()\n",
        "reg.fit(x_train,y_train)\n",
        "y_predict=reg.predict(x_test)"
      ],
      "metadata": {
        "id": "_ddpVs2ZZHOE"
      },
      "execution_count": 57,
      "outputs": []
    },
    {
      "cell_type": "code",
      "source": [
        "answer=reg.predict([[1,1,1,0.75,0.39592317]])\n",
        "print(answer)"
      ],
      "metadata": {
        "colab": {
          "base_uri": "https://localhost:8080/"
        },
        "id": "OBydqncyb2Pu",
        "outputId": "4f586841-3707-43b6-94ee-8ea3e2570619"
      },
      "execution_count": 58,
      "outputs": [
        {
          "output_type": "stream",
          "name": "stdout",
          "text": [
            "[283512.58730794]\n"
          ]
        }
      ]
    },
    {
      "cell_type": "code",
      "source": [
        "with open('model.pkl', 'wb') as model_file:\n",
        "    pickle.dump(reg, model_file)"
      ],
      "metadata": {
        "id": "BUlQxU7Cgda8"
      },
      "execution_count": 59,
      "outputs": []
    }
  ]
}